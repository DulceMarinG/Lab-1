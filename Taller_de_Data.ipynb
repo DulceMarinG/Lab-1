{
  "nbformat": 4,
  "nbformat_minor": 0,
  "metadata": {
    "colab": {
      "name": "Taller de Data.ipynb",
      "provenance": [],
      "authorship_tag": "ABX9TyMryCerBomCyyZSs2s1hx+q",
      "include_colab_link": true
    },
    "kernelspec": {
      "name": "python3",
      "display_name": "Python 3"
    },
    "language_info": {
      "name": "python"
    }
  },
  "cells": [
    {
      "cell_type": "markdown",
      "metadata": {
        "id": "view-in-github",
        "colab_type": "text"
      },
      "source": [
        "<a href=\"https://colab.research.google.com/github/DulceMarinG/Lab-1/blob/master/Taller_de_Data.ipynb\" target=\"_parent\"><img src=\"https://colab.research.google.com/assets/colab-badge.svg\" alt=\"Open In Colab\"/></a>"
      ]
    },
    {
      "cell_type": "markdown",
      "metadata": {
        "id": "PGVDX9ESOxLO"
      },
      "source": [
        "#Taller De Ciencia De Datos \n",
        "Visualización y Análisi de Datos.\n"
      ]
    },
    {
      "cell_type": "code",
      "metadata": {
        "id": "9ENkeZGhOvp2"
      },
      "source": [
        ""
      ],
      "execution_count": null,
      "outputs": []
    },
    {
      "cell_type": "markdown",
      "metadata": {
        "id": "J_I8ttBJPeLH"
      },
      "source": [
        "### Importamos las herraminetas\n",
        "Para el siguiente taller se requiere importar las siguientes bibliotecas:\n"
      ]
    }
  ]
}